### Atividade 1: Sistema de Gerenciamento de Contas Bancárias.

#### Descrição:
Os alunos devem criar um sistema simples de gerenciamento de contas bancárias, onde cada conta é representada por uma classe. O sistema deve permitir criar contas, realizar depósitos, saques e consultar o saldo.

#### Requisitos:
1. Crie uma classe `ContaBancaria` com os seguintes atributos:
   - `numero_conta` (int): número da conta.
   - `titular` (str): nome do titular da conta.
   - `saldo` (float): saldo da conta, iniciado como zero.

2. A classe deve ter os seguintes métodos:
   - `depositar(valor)`: adiciona o valor ao saldo da conta.
   - `sacar(valor)`: subtrai o valor do saldo, mas apenas se houver saldo suficiente.
   - `consultar_saldo()`: retorna o saldo atual da conta.

3. O sistema deve permitir que o usuário crie uma conta, deposite, saque e consulte o saldo através de inputs.

---

### Atividade 2: Sistema de Cadastro de Alunos

#### Descrição:
Os alunos devem criar um sistema de cadastro de alunos, onde cada aluno é representado por uma classe. O sistema deve permitir cadastrar alunos, adicionar notas e calcular a média.

#### Requisitos:
1. Crie uma classe `Aluno` com os seguintes atributos:
   - `nome` (str): nome do aluno.
   - `idade` (int): idade do aluno.
   - `notas` (lista de float): lista com as notas do aluno.

2. A classe deve ter os seguintes métodos:
   - `adicionar_nota(nota)`: adiciona uma nova nota à lista de notas do aluno.
   - `calcular_media()`: calcula e retorna a média das notas do aluno.
   - `exibir_informacoes()`: exibe o nome, idade e média das notas do aluno.

3. O sistema deve permitir que o usuário cadastre alunos e insira notas através de inputs.

---

### Atividade 3: Sistema de Biblioteca

#### Descrição:
Os alunos devem criar um sistema simples para gerenciar o acervo de uma biblioteca. Cada livro deve ser representado por uma classe, e o sistema deve permitir adicionar novos livros, emprestar livros a usuários e consultar a disponibilidade de um livro.

#### Requisitos:
1. Crie uma classe `Livro` com os seguintes atributos:
   - `titulo` (str): título do livro.
   - `autor` (str): autor do livro.
   - `disponivel` (bool): indica se o livro está disponível para empréstimo, iniciado como `True`.

2. A classe deve ter os seguintes métodos:
   - `emprestar()`: altera o status de disponibilidade para `False` se o livro estiver disponível, caso contrário, exibe uma mensagem dizendo que o livro já está emprestado.
   - `devolver()`: altera o status de disponibilidade para `True`.
   - `exibir_informacoes()`: exibe o título, autor e se o livro está disponível.

3. O sistema deve permitir que o usuário adicione livros, empreste e devolva livros via inputs.

---

### Atividade 4: Sistema de Restaurante

#### Descrição:
Os alunos devem criar um sistema simples de pedidos para um restaurante. O sistema deve permitir que os clientes façam pedidos de pratos e bebidas e mostre a conta total.

#### Requisitos:
1. Crie uma classe `Pedido` com os seguintes atributos:
   - `itens` (lista de strings): lista que contém os itens pedidos.
   - `precos` (dicionário): um dicionário que mapeia os itens do menu aos seus respectivos preços, definido pelo usuário.

2. A classe deve ter os seguintes métodos:
   - `adicionar_item(item)`: adiciona um item à lista de itens pedidos.
   - `calcular_total()`: retorna o valor total dos itens pedidos com base nos preços.
   - `exibir_pedido()`: exibe a lista de itens pedidos e o total a pagar.

3. O sistema deve permitir que o usuário adicione itens ao pedido e veja o total da conta via inputs.
