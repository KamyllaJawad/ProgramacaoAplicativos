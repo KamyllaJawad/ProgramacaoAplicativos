{
 "cells": [
  {
   "cell_type": "markdown",
   "metadata": {},
   "source": [
    "# Conceito de Objetos `object`"
   ]
  },
  {
   "cell_type": "markdown",
   "metadata": {},
   "source": [
    "Um **objeto** é uma instância de uma classe, ou seja, é um exemplar específico da estrutura definida pela classe. Em outras palavras, quando você cria um objeto, está criando uma versão concreta da classe, com seus próprios valores de atributos e comportamentos.\n",
    "\n",
    "Imagine que a **classe** seja a planta de uma casa e o **objeto** seja uma casa construída a partir dessa planta. Cada casa (objeto) pode ser ligeiramente diferente (com cores ou tamanhos diferentes), mas segue o mesmo plano base (classe).\n",
    "\n",
    "**Exemplo:** Um carro específico, como um Ford Fiesta azul de 2020, seria um objeto da classe \"Carro\"."
   ]
  },
  {
   "cell_type": "markdown",
   "metadata": {},
   "source": [
    "## Características dos Objetos"
   ]
  },
  {
   "cell_type": "markdown",
   "metadata": {},
   "source": [
    "1. **Estado**\n",
    "   - Representado pelos **atributos** de um objeto. O estado define as características de um objeto em um determinado momento. Exemplo: o estado de um carro poderia ser \"cor: azul\", \"velocidade: 60 km/h\"."
   ]
  },
  {
   "cell_type": "markdown",
   "metadata": {},
   "source": [
    "2. **Comportamento**\n",
    "   - Definido pelos **métodos** da classe. O comportamento de um objeto é o que ele pode fazer ou como ele pode interagir com o mundo. Exemplo: um carro pode acelerar ou frear.\n"
   ]
  },
  {
   "cell_type": "markdown",
   "metadata": {},
   "source": [
    "3. **Identidade**\n",
    "   - Todo objeto possui uma identidade única, mesmo que seja de uma mesma classe. Isso é o que diferencia um objeto de outro. Em Python, podemos verificar a identidade de um objeto com a função `id()`, que retorna um identificador único para o objeto."
   ]
  },
  {
   "cell_type": "markdown",
   "metadata": {},
   "source": [
    "## Quando Criar um Objeto?"
   ]
  },
  {
   "cell_type": "markdown",
   "metadata": {},
   "source": [
    "Você cria um objeto quando quer representar uma entidade do mundo real no seu código, com dados (atributos) e comportamentos (métodos). Ao instanciar uma classe, você cria um objeto que pode interagir e manipular esses dados e comportamentos."
   ]
  },
  {
   "cell_type": "markdown",
   "metadata": {},
   "source": [
    "## Como Criar um Objeto?"
   ]
  },
  {
   "cell_type": "markdown",
   "metadata": {},
   "source": [
    "Para criar um objeto, você usa o nome da classe seguido de parênteses. Isso chama o método especial `__init__`, também conhecido como o **construtor**, que inicializa os atributos do objeto."
   ]
  },
  {
   "cell_type": "markdown",
   "metadata": {},
   "source": [
    "## Estrutura de Criação um Objeto"
   ]
  },
  {
   "cell_type": "code",
   "execution_count": null,
   "metadata": {},
   "outputs": [],
   "source": [
    "# Definindo uma classe simples de Carro\n",
    "class Carro:\n",
    "    def __init__(self, marca, modelo, ano):\n",
    "        self.marca = marca  # Atributo de instância\n",
    "        self.modelo = modelo\n",
    "        self.ano = ano\n",
    "\n",
    "    def detalhes(self):\n",
    "        print(f\"Carro: {self.marca} {self.modelo}, Ano: {self.ano}\")\n",
    "\n",
    "# Criando um objeto da classe Carro\n",
    "meu_carro = Carro(\"Toyota\", \"Corolla\", 2021)\n",
    "\n",
    "# Acessando um método do objeto\n",
    "meu_carro.detalhes()  # Output: Carro: Toyota Corolla, Ano: 2021\n"
   ]
  },
  {
   "cell_type": "markdown",
   "metadata": {},
   "source": [
    "Aqui, `meu_carro` é um **objeto** (ou instância) da classe `Carro`. Cada vez que você chama `Carro()`, está criando um novo objeto com os atributos e métodos da classe."
   ]
  },
  {
   "cell_type": "markdown",
   "metadata": {},
   "source": [
    "## Acessando Atributos e Métodos de um Objeto"
   ]
  },
  {
   "cell_type": "markdown",
   "metadata": {},
   "source": [
    "Depois de criar um objeto, você pode acessar os atributos e métodos diretamente através da **notação de ponto** (`.`)."
   ]
  },
  {
   "cell_type": "code",
   "execution_count": null,
   "metadata": {},
   "outputs": [],
   "source": [
    "class Pessoa:\n",
    "    def __init__(self, nome, idade):\n",
    "        self.nome = nome\n",
    "        self.idade = idade\n",
    "\n",
    "    def saudacao(self):\n",
    "        print(f\"Olá, meu nome é {self.nome} e eu tenho {self.idade} anos.\")\n",
    "\n",
    "# Criando um objeto\n",
    "pessoa1 = Pessoa(\"Alice\", 30)\n",
    "\n",
    "# Acessando atributos\n",
    "print(pessoa1.nome)   # Output: Alice\n",
    "print(pessoa1.idade)  # Output: 30\n",
    "\n",
    "# Chamando um método\n",
    "pessoa1.saudacao()    # Output: Olá, meu nome é Alice e eu tenho 30 anos."
   ]
  },
  {
   "cell_type": "markdown",
   "metadata": {},
   "source": [
    "\n",
    "### Atualizando o Estado de um Objeto"
   ]
  },
  {
   "cell_type": "markdown",
   "metadata": {},
   "source": [
    "\n",
    "Os atributos de um objeto podem ser modificados diretamente, o que altera o **estado** daquele objeto.\n",
    "\n",
    "**Exemplo:**"
   ]
  },
  {
   "cell_type": "code",
   "execution_count": null,
   "metadata": {},
   "outputs": [],
   "source": [
    "class Produto:\n",
    "    def __init__(self, nome, preco):\n",
    "        self.nome = nome\n",
    "        self.preco = preco\n",
    "\n",
    "    def aplicar_desconto(self, porcentagem):\n",
    "        self.preco -= self.preco * (porcentagem / 100)\n",
    "\n",
    "# Criando um objeto\n",
    "produto = Produto(\"Notebook\", 3000)\n",
    "\n",
    "# Atualizando o estado (alterando o preço com desconto)\n",
    "produto.aplicar_desconto(10)\n",
    "\n",
    "# Acessando o novo estado\n",
    "print(f\"O preço do {produto.nome} após o desconto é: R$ {produto.preco}\")  # Output: O preço do Notebook após o desconto é: R$ 2700.0"
   ]
  },
  {
   "cell_type": "markdown",
   "metadata": {},
   "source": [
    "\n",
    "Aqui, o estado do objeto `produto` mudou depois de aplicar o desconto."
   ]
  },
  {
   "cell_type": "markdown",
   "metadata": {},
   "source": [
    "### Comparação Entre Objetos"
   ]
  },
  {
   "cell_type": "markdown",
   "metadata": {},
   "source": [
    "Embora dois objetos possam ser criados a partir da mesma classe e terem os mesmos valores de atributos, eles ainda são **objetos diferentes** com suas próprias identidades. Isso é importante para entender como os objetos funcionam internamente.\n",
    "\n",
    "**Exemplo:**\n"
   ]
  },
  {
   "cell_type": "code",
   "execution_count": null,
   "metadata": {},
   "outputs": [],
   "source": [
    "carro1 = Carro(\"Ford\", \"Fusion\", 2019)\n",
    "carro2 = Carro(\"Ford\", \"Fusion\", 2019)\n",
    "\n",
    "# Verificando se são o mesmo objeto\n",
    "print(carro1 == carro2)  # Output: False (são objetos diferentes)\n",
    "print(id(carro1), id(carro2))  # Mostra identificadores diferentes\n"
   ]
  },
  {
   "cell_type": "markdown",
   "metadata": {},
   "source": [
    "\n",
    "Embora `carro1` e `carro2` tenham os mesmos atributos, eles são **objetos distintos** em memória."
   ]
  },
  {
   "cell_type": "markdown",
   "metadata": {},
   "source": [
    "### Sobre Atributos"
   ]
  },
  {
   "cell_type": "markdown",
   "metadata": {},
   "source": [
    "Os **atributos** são as características ou propriedades que descrevem o estado de um objeto em Python. Eles armazenam dados sobre o objeto e podem ser acessados ou modificados conforme necessário. Cada instância (ou objeto) de uma classe pode ter seus próprios valores para os atributos, mesmo que sigam a mesma estrutura definida pela classe."
   ]
  },
  {
   "cell_type": "markdown",
   "metadata": {},
   "source": [
    "#### Tipos de Atributos"
   ]
  },
  {
   "cell_type": "markdown",
   "metadata": {},
   "source": [
    "##### Atributos de Instância"
   ]
  },
  {
   "cell_type": "markdown",
   "metadata": {},
   "source": [
    "\n",
    "Esses atributos são criados dentro do método `__init__` ou de outros métodos da classe, e cada objeto (instância) da classe pode ter valores únicos para esses atributos.\n",
    "\n",
    "**Exemplo de Atributos de Instância:**\n",
    "Se você criar dois objetos da classe `Carro`, cada um terá seu próprio valor para os atributos como `marca` e `modelo`."
   ]
  },
  {
   "cell_type": "code",
   "execution_count": null,
   "metadata": {},
   "outputs": [],
   "source": [
    "class Carro:\n",
    "    def __init__(self, marca, modelo, ano):\n",
    "        self.marca = marca  # Atributo de instância\n",
    "        self.modelo = modelo  # Atributo de instância\n",
    "        self.ano = ano  # Atributo de instância\n",
    "        self.velocidade = 0  # Atributo de instância com valor inicial\n",
    "\n",
    "    def acelerar(self):\n",
    "        self.velocidade += 10\n",
    "\n",
    "# Criando dois objetos da classe Carro\n",
    "carro1 = Carro(\"Toyota\", \"Corolla\", 2021)\n",
    "carro2 = Carro(\"Honda\", \"Civic\", 2020)\n",
    "\n",
    "# Cada objeto tem seus próprios valores de atributos\n",
    "print(carro1.marca)  # Output: Toyota\n",
    "print(carro2.marca)  # Output: Honda\n",
    "\n",
    "# Modificando o atributo de instância velocidade\n",
    "carro1.acelerar()\n",
    "print(carro1.velocidade)  # Output: 10\n",
    "print(carro2.velocidade)  # Output: 0 (carro2 não acelerou)"
   ]
  },
  {
   "cell_type": "markdown",
   "metadata": {},
   "source": [
    "- `carro1` e `carro2` são objetos diferentes da classe `Carro`. Cada um tem seu próprio valor para os atributos `marca`, `modelo`, `ano`, e `velocidade`.\n",
    "- O método `acelerar` altera o valor do atributo `velocidade` de forma individual para cada objeto."
   ]
  },
  {
   "cell_type": "markdown",
   "metadata": {},
   "source": [
    "##### Atributos de Classe"
   ]
  },
  {
   "cell_type": "markdown",
   "metadata": {},
   "source": [
    "Atributos de classe são definidos diretamente na classe, e **todas** as instâncias dessa classe compartilham o mesmo valor para esses atributos.\n",
    "\n",
    " **Exemplo de Atributos de Classe:** Se todos os carros tivessem o mesmo valor para um atributo como `número de rodas`, ele seria um atributo de classe."
   ]
  },
  {
   "cell_type": "code",
   "execution_count": null,
   "metadata": {},
   "outputs": [],
   "source": [
    "class Carro:\n",
    "    # Atributo de classe\n",
    "    num_rodas = 4  # Todos os carros têm 4 rodas\n",
    "\n",
    "    def __init__(self, marca, modelo, ano):\n",
    "        self.marca = marca\n",
    "        self.modelo = modelo\n",
    "        self.ano = ano\n",
    "\n",
    "# Criando dois objetos da classe Carro\n",
    "carro1 = Carro(\"Toyota\", \"Corolla\", 2021)\n",
    "carro2 = Carro(\"Honda\", \"Civic\", 2020)\n",
    "\n",
    "# Acessando o atributo de classe\n",
    "print(carro1.num_rodas)  # Output: 4\n",
    "print(carro2.num_rodas)  # Output: 4\n",
    "\n",
    "# Acessando diretamente da classe\n",
    "print(Carro.num_rodas)   # Output: 4"
   ]
  },
  {
   "cell_type": "markdown",
   "metadata": {},
   "source": [
    "- `num_rodas` é um atributo de classe e, portanto, é compartilhado por todas as instâncias de `Carro`.\n",
    "- Pode ser acessado tanto pelos objetos (`carro1.num_rodas`) quanto diretamente pela classe (`Carro.num_rodas`)."
   ]
  },
  {
   "cell_type": "markdown",
   "metadata": {},
   "source": [
    "### Getters e Setters"
   ]
  },
  {
   "cell_type": "markdown",
   "metadata": {},
   "source": [
    "\n",
    "Embora em Python seja possível acessar diretamente os atributos de uma classe, é uma boa prática usar **getters** e **setters** (métodos para acessar e modificar os atributos) quando se deseja controlar ou validar o acesso a esses dados.\n",
    "\n",
    "**Exemplo com Getters e Setters:**\n"
   ]
  },
  {
   "cell_type": "code",
   "execution_count": null,
   "metadata": {},
   "outputs": [],
   "source": [
    "class Produto:\n",
    "    def __init__(self, nome, preco):\n",
    "        self.nome = nome\n",
    "        self.__preco = preco  # Atributo privado\n",
    "\n",
    "    # Getter para o preço\n",
    "    def get_preco(self):\n",
    "        return self.__preco\n",
    "\n",
    "    # Setter para o preço com validação\n",
    "    def set_preco(self, novo_preco):\n",
    "        if novo_preco > 0:\n",
    "            self.__preco = novo_preco\n",
    "        else:\n",
    "            print(\"Erro: o preço deve ser maior que zero.\")\n",
    "\n",
    "# Criando um objeto\n",
    "produto = Produto(\"Celular\", 1500)\n",
    "\n",
    "# Usando o getter e setter\n",
    "print(produto.get_preco())  # Output: 1500\n",
    "produto.set_preco(2000)  # Atualiza o preço\n",
    "print(produto.get_preco())  # Output: 2000"
   ]
  },
  {
   "cell_type": "markdown",
   "metadata": {},
   "source": [
    "## Segurança de Objetos e seus Atributos"
   ]
  },
  {
   "cell_type": "markdown",
   "metadata": {},
   "source": [
    "#### 1. **Atributos Públicos:** Atributos ou métodos que são acessíveis de fora da classe. Por padrão, todos os atributos e métodos são públicos.\n",
    "   \n",
    "   ```python\n",
    "   class MinhaClasse:\n",
    "       def __init__(self):\n",
    "           self.atributo_publico = \"Eu sou público\"\n",
    "       \n",
    "       def metodo_publico(self):\n",
    "           return \"Método público\"\n",
    "   \n",
    "   obj = MinhaClasse()\n",
    "   print(obj.atributo_publico)  # Acesso ao atributo público\n",
    "   print(obj.metodo_publico())  # Chamada do método público\n",
    "   ```\n",
    "\n",
    "#### 2. **Atributos Privados:** Atributos ou métodos que não devem ser acessados diretamente de fora da classe. Para definir um atributo como privado, você usa dois underscores (`__`) antes do nome.\n",
    "   \n",
    "   ```python\n",
    "   class MinhaClasse:\n",
    "       def __init__(self):\n",
    "           self.__atributo_privado = \"Eu sou privado\"\n",
    "       \n",
    "       def __metodo_privado(self):\n",
    "           return \"Método privado\"\n",
    "   \n",
    "       def mostrar_atributo_privado(self):\n",
    "           return self.__atributo_privado  # Acesso ao atributo privado dentro da classe\n",
    "   \n",
    "   obj = MinhaClasse()\n",
    "   # print(obj.__atributo_privado)  # Gera erro: AttributeError\n",
    "   print(obj.mostrar_atributo_privado())  # Acesso através de método público\n",
    "   ```\n",
    "\n",
    "#### 3. **Atributos \"Protegidos\" (não exatamente privados):** Se você deseja apenas sugerir que um atributo ou método não deve ser acessado diretamente (mas ainda assim ele pode ser acessado), use um underscore simples (`_`). Isso é mais uma convenção do que uma restrição.\n",
    "\n",
    "   ```python\n",
    "   class MinhaClasse:\n",
    "       def __init__(self):\n",
    "           self._atributo_protegido = \"Eu sou protegido\"\n",
    "   \n",
    "   obj = MinhaClasse()\n",
    "   print(obj._atributo_protegido)  # Acesso possível, mas não recomendado\n",
    "   ```\n",
    "\n",
    "#### Conclusão:\n",
    "- **Público:** Não tem underscores.\n",
    "- **Protegido:** Usa um underscore (`_`).\n",
    "- **Privado:** Usa dois underscores (`__`)."
   ]
  },
  {
   "cell_type": "markdown",
   "metadata": {},
   "source": [
    "## Boas Práticas ao Utilizar Objetos"
   ]
  },
  {
   "cell_type": "markdown",
   "metadata": {},
   "source": [
    "#### 1. **Use Classes e Objetos para Modelar Entidades do Mundo Real**:\n",
    "   - Se você está modelando um conceito que possui propriedades (dados) e comportamentos (funções), as classes e objetos são ideais para isso. Modelar de forma intuitiva ajuda a tornar o código mais legível e organizado.\n",
    "\n",
    "#### 2. **Mantenha os Objetos Independentes**:\n",
    "   - Evite manipular atributos de um objeto diretamente em outro. Isso pode introduzir dependências desnecessárias e dificultar a manutenção.\n",
    "\n",
    "#### 3. **Encapsule Dados**:\n",
    "   - Se um atributo não deve ser alterado diretamente por outras partes do código, use o conceito de **encapsulamento** para proteger esses dados.\n",
    "   \n",
    "   ```python\n",
    "   class Funcionario:\n",
    "       def __init__(self, nome, salario):\n",
    "           self.nome = nome\n",
    "           self.__salario = salario  # Atributo \"privado\"\n",
    "       \n",
    "       def ver_salario(self):\n",
    "           return self.__salario\n",
    "\n",
    "   funcionario = Funcionario(\"Carlos\", 5000)\n",
    "   print(funcionario.ver_salario())  # Output: 5000\n",
    "   ```\n",
    "\n",
    "#### 4. **Utilize o Método `__str__` para Representação de Objetos**:\n",
    "   - Para melhorar a legibilidade ao exibir objetos, implemente o método especial `__str__` para que a classe retorne uma representação em string mais clara e útil.\n",
    "\n",
    "   ```python\n",
    "   class Carro:\n",
    "       def __init__(self, marca, modelo, ano):\n",
    "           self.marca = marca\n",
    "           self.modelo = modelo\n",
    "           self.ano = ano\n",
    "       \n",
    "       def __str__(self):\n",
    "           return f\"{self.marca} {self.modelo} ({self.ano})\"\n",
    "\n",
    "   meu_carro = Carro(\"Toyota\", \"Corolla\", 2021)\n",
    "   print(meu_carro)  # Output: Toyota Corolla (2021)\n",
    "   ```"
   ]
  },
  {
   "cell_type": "markdown",
   "metadata": {},
   "source": [
    "## Sendo Assim:"
   ]
  },
  {
   "cell_type": "markdown",
   "metadata": {},
   "source": [
    "Objetos são a concretização de classes em Python. Eles permitem que você modele entidades do mundo real no código, mantendo dados e comportamentos organizados. A flexibilidade dos objetos permite criar sistemas modulares, reutilizáveis e fáceis de manter. Ao trabalhar com objetos, você pode modificar o estado de cada instância de maneira independente, o que é uma grande vantagem em sistemas complexos."
   ]
  }
 ],
 "metadata": {
  "language_info": {
   "name": "python"
  }
 },
 "nbformat": 4,
 "nbformat_minor": 2
}
