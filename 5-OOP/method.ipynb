{
 "cells": [
  {
   "cell_type": "markdown",
   "metadata": {},
   "source": [
    "# Métodos em Python: O Que São e Como Usá-los\n"
   ]
  },
  {
   "cell_type": "markdown",
   "metadata": {},
   "source": [
    "\n",
    "Os **métodos** em Python são funções definidas dentro de uma classe que operam sobre os dados (atributos) da classe ou instância e definem o comportamento dos objetos. Eles são responsáveis por permitir que os objetos realizem ações e interajam com outros objetos ou partes do programa.\n"
   ]
  },
  {
   "cell_type": "markdown",
   "metadata": {},
   "source": [
    "\n",
    "## Tipos de Métodos\n",
    "\n",
    "1. **Métodos de Instância**:\n",
    "   - São os métodos mais comuns, que operam nos atributos da **instância** (ou objeto) da classe. O primeiro parâmetro desses métodos é sempre `self`, que representa a instância do objeto.\n",
    "   \n",
    "2. **Métodos de Classe**:\n",
    "   - Esses métodos operam na **classe** em si, não em instâncias individuais. Eles são definidos usando o decorador `@classmethod`, e o primeiro parâmetro é sempre `cls`, que representa a classe.\n",
    "   \n",
    "3. **Métodos Estáticos**:\n",
    "   - Métodos que não dependem nem da instância nem da classe. Eles são definidos usando o decorador `@staticmethod` e não têm acesso a `self` ou `cls`. São úteis para realizar operações que estão logicamente relacionadas à classe, mas não precisam de acesso à instância ou à classe."
   ]
  },
  {
   "cell_type": "markdown",
   "metadata": {},
   "source": [
    "## Métodos de Instância\n",
    "\n",
    "Os **métodos de instância** são os mais usados. Eles operam nos dados (atributos) de uma instância e, portanto, podem acessar ou modificar o estado de um objeto.\n",
    "\n",
    "**Exemplo de Métodos de Instância:**"
   ]
  },
  {
   "cell_type": "code",
   "execution_count": null,
   "metadata": {},
   "outputs": [],
   "source": [
    "class Carro:\n",
    "    def __init__(self, marca, modelo, ano):\n",
    "        self.marca = marca\n",
    "        self.modelo = modelo\n",
    "        self.ano = ano\n",
    "        self.velocidade = 0\n",
    "\n",
    "    # Método de instância para acelerar o carro\n",
    "    def acelerar(self, incremento):\n",
    "        self.velocidade += incremento\n",
    "        print(f\"O carro {self.marca} acelerou para {self.velocidade} km/h.\")\n",
    "\n",
    "    # Método de instância para frear o carro\n",
    "    def frear(self, decremento):\n",
    "        self.velocidade = max(0, self.velocidade - decremento)\n",
    "        print(f\"O carro {self.marca} reduziu para {self.velocidade} km/h.\")\n"
   ]
  },
  {
   "cell_type": "markdown",
   "metadata": {},
   "source": [
    "- `acelerar` e `frear` são métodos de instância que operam no atributo `velocidade` de um objeto.\n",
    "- O parâmetro `self` representa a instância do objeto que está chamando o método.\n"
   ]
  },
  {
   "cell_type": "code",
   "execution_count": null,
   "metadata": {},
   "outputs": [],
   "source": [
    "carro1 = Carro(\"Toyota\", \"Corolla\", 2021)\n",
    "carro1.acelerar(30)  # Acelera o carro\n",
    "carro1.frear(10)     # Reduz a velocidade"
   ]
  },
  {
   "cell_type": "markdown",
   "metadata": {},
   "source": [
    "## Métodos de Classe\n",
    "\n",
    "Os **métodos de classe** operam diretamente sobre a **classe** e não sobre instâncias individuais. Eles são definidos com o decorador `@classmethod` e recebem `cls` como primeiro parâmetro, que faz referência à própria classe.\n",
    "\n",
    "**Exemplo de Método de Classe:**"
   ]
  },
  {
   "cell_type": "code",
   "execution_count": null,
   "metadata": {},
   "outputs": [],
   "source": [
    "class Carro:\n",
    "    num_rodas = 4  # Atributo de classe\n",
    "\n",
    "    @classmethod\n",
    "    def alterar_num_rodas(cls, novo_num):\n",
    "        cls.num_rodas = novo_num\n",
    "        print(f\"Agora, todos os carros têm {cls.num_rodas} rodas.\")\n",
    "\n",
    "# Chamando um método de classe\n",
    "Carro.alterar_num_rodas(6)\n",
    "print(Carro.num_rodas)  # Output: 6"
   ]
  },
  {
   "cell_type": "markdown",
   "metadata": {},
   "source": [
    "- `alterar_num_rodas` é um método de classe que altera o valor do atributo de classe `num_rodas`.\n",
    "- Note que o método foi chamado diretamente pela classe (`Carro.alterar_num_rodas`), não por uma instância."
   ]
  },
  {
   "cell_type": "markdown",
   "metadata": {},
   "source": [
    "## Métodos Estáticos\n",
    "\n",
    "Os **métodos estáticos** são métodos que pertencem à classe, mas não interagem diretamente com a classe ou as instâncias. Eles são úteis para funções auxiliares que estão relacionadas à classe, mas não precisam acessar seus atributos ou métodos.\n",
    "\n",
    "**Exemplo de Método Estático:**"
   ]
  },
  {
   "cell_type": "code",
   "execution_count": null,
   "metadata": {},
   "outputs": [],
   "source": [
    "class Conversor:\n",
    "    @staticmethod\n",
    "    def km_para_milhas(km):\n",
    "        return km * 0.621371\n",
    "\n",
    "# Chamando um método estático\n",
    "milhas = Conversor.km_para_milhas(10)\n",
    "print(milhas)  # Output: 6.21371"
   ]
  },
  {
   "cell_type": "markdown",
   "metadata": {},
   "source": [
    "- `km_para_milhas` é um método estático que realiza uma conversão de quilômetros para milhas. Como ele não depende de nenhuma instância ou atributo de classe, `self` ou `cls` não são necessários.\n"
   ]
  },
  {
   "cell_type": "markdown",
   "metadata": {},
   "source": [
    "## Métodos Especiais (Dunder Methods)\n",
    "\n",
    "Em Python, há uma série de métodos \"especiais\" que começam e terminam com dois sublinhados (`__`). Esses métodos são conhecidos como **métodos dunder** (abreviação de \"double underscore\") e permitem definir o comportamento de operadores e funções embutidas para objetos personalizados.\n",
    "\n",
    "Alguns métodos especiais incluem:\n",
    "\n",
    "- `__init__`: O construtor, chamado ao criar uma nova instância da classe.\n",
    "- `__str__`: Define a representação em string de um objeto (usado pela função `print()`).\n",
    "- `__repr__`: Define uma representação não ambígua do objeto (usado por `repr()`).\n",
    "- `__eq__`: Define o comportamento do operador de igualdade (`==`).\n",
    "- `__lt__`: Define o comportamento do operador de menor que (`<`).\n",
    "\n",
    "**Exemplo de Métodos Especiais:**"
   ]
  },
  {
   "cell_type": "code",
   "execution_count": null,
   "metadata": {},
   "outputs": [],
   "source": [
    "class Pessoa:\n",
    "    def __init__(self, nome, idade):\n",
    "        self.nome = nome\n",
    "        self.idade = idade\n",
    "\n",
    "    # Método especial para representação em string\n",
    "    def __str__(self):\n",
    "        return f\"Pessoa: {self.nome}, {self.idade} anos\"\n",
    "\n",
    "    # Método especial para comparação de igualdade\n",
    "    def __eq__(self, outra_pessoa):\n",
    "        return self.nome == outra_pessoa.nome and self.idade == outra_pessoa.idade\n",
    "\n",
    "# Criando objetos\n",
    "pessoa1 = Pessoa(\"João\", 25)\n",
    "pessoa2 = Pessoa(\"João\", 25)\n",
    "\n",
    "# Usando __str__ com print\n",
    "print(pessoa1)  # Output: Pessoa: João, 25 anos\n",
    "\n",
    "# Usando __eq__ para comparação\n",
    "print(pessoa1 == pessoa2)  # Output: True"
   ]
  },
  {
   "cell_type": "markdown",
   "metadata": {},
   "source": [
    "- `__str__` define a forma como o objeto será representado quando usado com `print`.\n",
    "- `__eq__` define o comportamento do operador `==`, permitindo que dois objetos sejam comparados com base nos valores de seus atributos."
   ]
  },
  {
   "cell_type": "markdown",
   "metadata": {},
   "source": [
    "## Boas Práticas com Métodos"
   ]
  },
  {
   "cell_type": "markdown",
   "metadata": {},
   "source": [
    "\n",
    "1. **Escolha Nomes Descritivos**:\n",
    "   - Dê nomes aos métodos que descrevam claramente o que eles fazem. Isso melhora a legibilidade e manutenção do código.\n",
    "   - **Exemplo**: Use `calcular_total()` em vez de `calcular()`.\n",
    "\n",
    "2. **Seja Claro no Uso de `self`**:\n",
    "   - Sempre use `self` como o primeiro parâmetro em métodos de instância. Isso é uma convenção importante e facilita a compreensão do código.\n",
    "\n",
    "3. **Use Métodos de Classe e Estáticos Corretamente**:\n",
    "   - Métodos de classe devem ser usados quando você precisa trabalhar com a classe em si, como modificar atributos de classe.\n",
    "   - Métodos estáticos são úteis para funções que estão logicamente relacionadas à classe, mas não dependem de seus atributos.\n",
    "\n",
    "4. **Documente Métodos com Docstrings**:\n",
    "   - Sempre documente seus métodos, explicando o que fazem, quais são seus parâmetros e o valor de retorno. Isso ajuda outros desenvolvedores (ou você no futuro) a entender melhor o código.\n",
    "\n",
    "   ```python\n",
    "   class Calculadora:\n",
    "       \"\"\"\n",
    "       Classe que representa uma calculadora simples.\n",
    "       \"\"\"\n",
    "\n",
    "       def somar(self, a, b):\n",
    "           \"\"\"\n",
    "           Soma dois números.\n",
    "           :param a: O primeiro número.\n",
    "           :param b: O segundo número.\n",
    "           :return: A soma de a e b.\n",
    "           \"\"\"\n",
    "           return a + b\n",
    "   ```\n",
    "\n",
    "5. **Use Métodos Especiais (Dunder) Quando Necessário**:\n",
    "   - Métodos especiais permitem que seus objetos interajam de maneira mais natural com operadores e funções do Python. Use-os para melhorar a integração do seu objeto com a linguagem.\n",
    "\n",
    "6. **Organize Métodos de Maneira Lógica**:\n",
    "   - Coloque os métodos em uma ordem lógica dentro da classe, como métodos que inicializam primeiro, seguidos de métodos de acesso (getters/setters) e, por fim, métodos utilitários."
   ]
  },
  {
   "cell_type": "markdown",
   "metadata": {},
   "source": [
    "## Conclusão"
   ]
  },
  {
   "cell_type": "markdown",
   "metadata": {},
   "source": [
    "Métodos são fundamentais para a programação orientada a objetos, pois definem o comportamento dos objetos. Métodos de instância são os mais comuns, mas métodos de classe e estáticos também têm seu lugar dependendo das necessidades. Além disso, os métodos especiais permitem personalizar como os objetos interagem com operadores e funções embutidas em Python. Seguir boas práticas ao definir métodos torna o código mais legível, modular e fácil de manter."
   ]
  }
 ],
 "metadata": {
  "language_info": {
   "name": "python"
  }
 },
 "nbformat": 4,
 "nbformat_minor": 2
}
