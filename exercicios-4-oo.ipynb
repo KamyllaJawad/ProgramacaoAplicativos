{
 "cells": [
  {
   "cell_type": "markdown",
   "metadata": {},
   "source": [
    "\n",
    "### 1. **Sistema de Cadastro de Veículos e Cálculo de IPVA**\n",
    "\n",
    "**Objetivo**: Desenvolver um sistema que permita cadastrar veículos, consultar informações e calcular o valor do IPVA (Imposto sobre Propriedade de Veículos Automotores) com base no tipo de veículo.\n",
    "\n",
    "**Instruções**:\n",
    "1. Crie uma classe chamada `Veiculo` com os atributos: marca, modelo, ano e valor do veículo. Esses atributos devem ser privados (encapsulados).\n",
    "2. Crie três subclasses que herdam da classe `Veiculo`: `Carro`, `Moto` e `Caminhao`.\n",
    "3. Para cada tipo de veículo, o IPVA deve ser calculado de maneira diferente:\n",
    "   - Carros pagam 4% do valor do veículo.\n",
    "   - Motos pagam 2% do valor do veículo.\n",
    "   - Caminhões pagam 1% do valor do veículo.\n",
    "4. Implemente um menu com as opções de cadastrar um veículo, consultar as informações de um veículo cadastrado e calcular o IPVA.\n",
    "\n",
    "**ATENÇÃO**:\n",
    "- Use a herança para evitar duplicação de código.\n",
    "- Utilize o polimorfismo para sobrescrever o método de cálculo de IPVA em cada tipo de veículo.\n",
    "\n",
    "\n",
    "---\n"
   ]
  },
  {
   "cell_type": "markdown",
   "metadata": {},
   "source": [
    "#### Exemplo para início\n"
   ]
  },
  {
   "cell_type": "code",
   "execution_count": null,
   "metadata": {},
   "outputs": [],
   "source": [
    "class Veiculo:\n",
    "    def __init__(self, marca, modelo, ano, valor):\n",
    "        self._marca = marca\n",
    "        self._modelo = modelo\n",
    "        self._ano = ano\n",
    "        self._valor = valor\n",
    "\n",
    "    def calcular_ipva(self):\n",
    "        pass\n",
    "\n",
    "class Carro(Veiculo):\n",
    "    def calcular_ipva(self):\n",
    "        return self._valor * 0.04\n",
    "\n",
    "class Moto(Veiculo):\n",
    "    def calcular_ipva(self):\n",
    "        return self._valor * 0.02\n",
    "\n",
    "class Caminhao(Veiculo):\n",
    "    def calcular_ipva(self):\n",
    "        return self._valor * 0.01\n",
    "\n",
    "def menu():\n",
    "    print(\"1. Cadastrar veículo\")\n",
    "    print(\"2. Consultar veículo\")\n",
    "    print(\"3. Calcular IPVA\")\n",
    "    print(\"4. Sair\")\n",
    "\n"
   ]
  },
  {
   "cell_type": "markdown",
   "metadata": {},
   "source": [
    "### 2. **Sistema de Funcionários e Cálculo de Bônus**\n",
    "\n",
    "**Objetivo**: Criar um sistema que permita cadastrar funcionários, consultar informações e calcular o bônus salarial de acordo com o cargo.\n",
    "\n",
    "**Instruções**:\n",
    "1. Crie uma classe chamada `Funcionario` com os atributos: nome e salário. Esses atributos devem ser privados.\n",
    "2. Crie três subclasses que herdam de `Funcionario`: `Gerente`, `Analista` e `Estagiario`.\n",
    "3. O bônus salarial deve ser calculado de acordo com o cargo:\n",
    "   - Gerente recebe 20% de bônus sobre o salário.\n",
    "   - Analista recebe 10% de bônus.\n",
    "   - Estagiário recebe 5% de bônus.\n",
    "4. Implemente um menu que permita cadastrar um funcionário, consultar informações e calcular o bônus de cada funcionário cadastrado.\n",
    "\n",
    "**ATENÇÃO**:\n",
    "- O método de cálculo do bônus deve ser sobrescrito em cada classe derivada.\n",
    "- Use herança para compartilhar atributos e métodos entre as classes.\n",
    "\n",
    "---\n",
    "\n"
   ]
  },
  {
   "cell_type": "markdown",
   "metadata": {},
   "source": [
    "#### Exemplo para início\n"
   ]
  },
  {
   "cell_type": "code",
   "execution_count": null,
   "metadata": {},
   "outputs": [],
   "source": [
    "class Funcionario:\n",
    "    def __init__(self, nome, salario):\n",
    "        self._nome = nome\n",
    "        self._salario = salario\n",
    "\n",
    "    def calcular_bonus(self):\n",
    "        pass\n",
    "\n",
    "class Gerente(Funcionario):\n",
    "    def calcular_bonus(self):\n",
    "        return self._salario * 0.2\n",
    "\n",
    "class Analista(Funcionario):\n",
    "    def calcular_bonus(self):\n",
    "        return self._salario * 0.1\n",
    "\n",
    "class Estagiario(Funcionario):\n",
    "    def calcular_bonus(self):\n",
    "        return self._salario * 0.05\n",
    "\n",
    "def menu():\n",
    "    print(\"1. Cadastrar funcionário\")\n",
    "    print(\"2. Consultar funcionário\")\n",
    "    print(\"3. Calcular bônus\")\n",
    "    print(\"4. Sair\")\n",
    "\n"
   ]
  },
  {
   "cell_type": "markdown",
   "metadata": {},
   "source": [
    "\n",
    "### 3. **Sistema de Biblioteca com Multa por Atraso**\n",
    "\n",
    "**Objetivo**: Desenvolver um sistema de cadastro de livros, onde o usuário poderá consultar informações e calcular a multa por atraso na devolução.\n",
    "\n",
    "**Instruções**:\n",
    "1. Crie uma classe chamada `Livro` com os atributos: título, autor, ano de publicação e dias de atraso na devolução.\n",
    "2. Crie duas subclasses que herdam de `Livro`: `LivroFisico` e `LivroDigital`.\n",
    "3. A multa por atraso deve ser calculada de forma diferente para cada tipo de livro:\n",
    "   - Livros físicos têm multa de R$2,00 por dia de atraso.\n",
    "   - Livros digitais têm multa de R$1,00 por dia de atraso.\n",
    "4. Implemente um menu para cadastrar livros, consultar informações e calcular a multa.\n",
    "\n",
    "**ATENÇÃO**:\n",
    "- Aplique polimorfismo para implementar o método de cálculo da multa de forma específica para cada tipo de livro.\n",
    "- Encapsule os atributos e permita o acesso a eles apenas através de métodos.\n",
    "\n",
    "---"
   ]
  },
  {
   "cell_type": "code",
   "execution_count": null,
   "metadata": {},
   "outputs": [],
   "source": [
    "class Livro:\n",
    "    def __init__(self, titulo, autor, ano, dias_atraso):\n",
    "        self._titulo = titulo\n",
    "        self._autor = autor\n",
    "        self._ano = ano\n",
    "        self._dias_atraso = dias_atraso\n",
    "\n",
    "    def calcular_multa(self):\n",
    "        pass\n",
    "\n",
    "class LivroFisico(Livro):\n",
    "    def calcular_multa(self):\n",
    "        return self._dias_atraso * 2\n",
    "\n",
    "class LivroDigital(Livro):\n",
    "    def calcular_multa(self):\n",
    "        return self._dias_atraso * 1\n",
    "\n",
    "def menu():\n",
    "    print(\"1. Cadastrar livro\")\n",
    "    print(\"2. Consultar livro\")\n",
    "    print(\"3. Calcular multa\")\n",
    "    print(\"4. Sair\")\n",
    "\n",
   ]
  },
  {
   "cell_type": "markdown",
   "metadata": {},
   "source": [
    "#### Exemplo para início\n"
   ]
  },
  {
   "cell_type": "markdown",
   "metadata": {},
   "source": [
    "### 4. **Sistema de Petshop com Preço de Serviços**\n",
    "\n",
    "**Objetivo**: Desenvolver um sistema para um petshop que permita cadastrar animais, consultar suas informações e calcular o preço dos serviços prestados com base na espécie do animal.\n",
    "\n",
    "**Instruções**:\n",
    "1. Crie uma classe `Animal` com os atributos: nome, idade e espécie do animal (ex: cachorro, gato, pássaro).\n",
    "2. Crie três subclasses que herdam de `Animal`: `Cachorro`, `Gato` e `Passaro`.\n",
    "3. O preço dos serviços varia de acordo com a espécie:\n",
    "   - Para cachorros, o preço é R$50,00.\n",
    "   - Para gatos, o preço é R$40,00.\n",
    "   - Para pássaros, o preço é R$30,00.\n",
    "4. Implemente um menu com as opções de cadastrar um animal, consultar as informações e calcular o preço do serviço para o animal cadastrado.\n",
    "\n",
    "**ATENÇÃO**:\n",
    "- Use herança para compartilhar atributos entre os tipos de animais.\n",
    "- Utilize polimorfismo para calcular o preço do serviço de acordo com o tipo de animal.\n",
    "\n",
    "---"
   ]
  },
  {
   "cell_type": "markdown",
   "metadata": {},
   "source": [
    "#### Exemplo para início\n"
   ]
  },
  {
   "cell_type": "code",
   "execution_count": null,
   "metadata": {},
   "outputs": [],
   "source": [
    "class Animal:\n",
    "    def __init__(self, nome, idade, especie):\n",
    "        self._nome = nome\n",
    "        self._idade = idade\n",
    "        self._especie = especie\n",
    "\n",
    "    def calcular_preco_servico(self):\n",
    "        pass\n",
    "\n",
    "class Cachorro(Animal):\n",
    "    def calcular_preco_servico(self):\n",
    "        return 50\n",
    "\n",
    "class Gato(Animal):\n",
    "    def calcular_preco_servico(self):\n",
    "        return 40\n",
    "\n",
    "class Passaro(Animal):\n",
    "    def calcular_preco_servico(self):\n",
    "        return 30\n",
    "\n",
    "def menu():\n",
    "    print(\"1. Cadastrar animal\")\n",
    "    print(\"2. Consultar animal\")\n",
    "    print(\"3. Calcular preço de serviço\")\n",
    "    print(\"4. Sair\")\n",
    "\n",
   ]
  }
 ],
 "metadata": {
  "language_info": {
   "name": "python"
  },
  "orig_nbformat": 4
 },
 "nbformat": 4,
 "nbformat_minor": 2
}
