{
 "cells": [
  {
   "cell_type": "markdown",
   "metadata": {},
   "source": [
    "## Atividade 1: Sistema de Gestão de Contas Bancárias\n",
    "    \n",
    "Crie um sistema de gestão de contas bancárias onde há três tipos de contas: **Conta Corrente**, **Conta Poupança** e **Conta Salário**.\n",
    "    \n",
    "**Requisitos:**\n",
    "    \n",
    "1. Crie uma classe base chamada `ContaBancaria` com atributos protegidos: número da conta, nome do titular e saldo. Adicione métodos para depósito e saque.\n",
    "2. Utilize **encapsulamento** para garantir que o saldo não possa ser alterado diretamente.\n",
    "3. Crie subclasses para `ContaCorrente`, `ContaPoupanca` e `ContaSalario`, herdando de `ContaBancaria`.\n",
    "   - `ContaCorrente`: Permite cheque especial (o saldo pode ficar negativo até um certo limite).\n",
    "   - `ContaPoupanca`: Acrescente um método de rendimento mensal (ex: 0.5% de juros ao saldo).\n",
    "   - `ContaSalario`: Só permite saque, sem cheque especial nem rendimentos.\n",
    "4. Implemente o conceito de **polimorfismo** para que o método de saque funcione de maneira diferente para cada tipo de conta."
   ]
  },
  {
   "cell_type": "markdown",
   "metadata": {},
   "source": [
    "## Atividade 2: Sistema de Gerenciamento de Funcionários\n",
    "\n",
    "Crie um sistema que gerencia funcionários de uma empresa. A empresa possui três tipos de funcionários: **Gerente**, **Analista** e **Estagiário**.\n",
    "\n",
    "**Requisitos:**\n",
    "\n",
    "1. Crie uma classe base `Funcionario` com atributos protegidos: nome, salário base e cargo.\n",
    "2. Utilize **encapsulamento** para que o salário não possa ser acessado diretamente e só possa ser alterado via um método específico.\n",
    "3. Crie subclasses para `Gerente`, `Analista` e `Estagiario`, herdando de `Funcionario`.\n",
    "   - `Gerente`: Recebe um bônus de 20% no salário.\n",
    "   - `Analista`: Recebe um bônus de 10% no salário.\n",
    "   - `Estagiario`: Não recebe bônus.\n",
    "4. Implemente o método `calcular_salario` em cada subclasse, utilizando **polimorfismo** para que cada classe tenha sua própria forma de cálculo do salário."
   ]
  },
  {
   "cell_type": "markdown",
   "metadata": {},
   "source": [
    "## Atividade 3: Sistema de Cadastro de Veículos\n",
    "\n",
    "Implemente um sistema de cadastro de veículos de diferentes tipos, como **Carro**, **Moto** e **Caminhão**.\n",
    "\n",
    "**Requisitos:**\n",
    "\n",
    "1. Crie uma classe base `Veiculo` com atributos protegidos: marca, modelo e ano.\n",
    "2. Utilize **encapsulamento** para permitir o acesso aos atributos apenas através de métodos getters e setters.\n",
    "3. Crie subclasses para `Carro`, `Moto` e `Caminhao`, herdando de `Veiculo`.\n",
    "   - `Carro`: Adicione um atributo para o número de portas e implemente um método que calcula o valor do IPVA (ex: 4% do valor de mercado).\n",
    "   - `Moto`: Adicione um atributo para cilindradas e implemente um método que calcula o valor do IPVA (ex: 2% do valor de mercado).\n",
    "   - `Caminhao`: Adicione um atributo para capacidade de carga e implemente um método que calcula o valor do IPVA (ex: 1.5% do valor de mercado).\n",
    "4. Utilize **polimorfismo** para calcular o IPVA de forma diferente em cada tipo de veículo."
   ]
  },
  {
   "cell_type": "markdown",
   "metadata": {},
   "source": [
    "## Atividade 4: Sistema de Controle de Animais\n",
    "\n",
    "Desenvolva um sistema que controle diferentes tipos de animais em um zoológico. Os tipos de animais são **Mamífero**, **Réptil** e **Ave**.\n",
    "\n",
    "**Requisitos:**\n",
    "\n",
    "1. Crie uma classe base `Animal` com atributos protegidos: nome e idade.\n",
    "2. Utilize **encapsulamento** para que a idade do animal só possa ser acessada ou alterada por métodos específicos.\n",
    "3. Crie subclasses para `Mamifero`, `Reptil` e `Ave`, herdando de `Animal`.\n",
    "   - `Mamifero`: Adicione um atributo para tipo de pelagem e um método `emitir_som`, que exiba \"Som de mamífero\".\n",
    "   - `Reptil`: Adicione um atributo para tipo de escamas e um método `emitir_som`, que exiba \"Som de réptil\".\n",
    "   - `Ave`: Adicione um atributo para tipo de penas e um método `emitir_som`, que exiba \"Som de ave\".\n",
    "4. Implemente o conceito de **polimorfismo** utilizando o método `emitir_som`, de forma que cada subclasse emita um som diferente."
   ]
  }
 ],
 "metadata": {
  "kernelspec": {
   "display_name": "Python 3",
   "language": "python",
   "name": "python3"
  },
  "language_info": {
   "codemirror_mode": {
    "name": "ipython",
    "version": 3
   },
   "file_extension": ".py",
   "mimetype": "text/x-python",
   "name": "python",
   "nbconvert_exporter": "python",
   "version": "3.8.5"
  }
 },
 "nbformat": 4,
 "nbformat_minor": 4
}
